{
 "cells": [
  {
   "cell_type": "markdown",
   "metadata": {},
   "source": [
    "# import声明"
   ]
  },
  {
   "cell_type": "code",
   "execution_count": 1,
   "metadata": {},
   "outputs": [],
   "source": [
    "import pandas as pd\n",
    "import numpy as np\n",
    "# import faiss\n",
    "from tqdm import tqdm\n",
    "import time"
   ]
  },
  {
   "cell_type": "markdown",
   "metadata": {},
   "source": [
    "#  1.读取train数据"
   ]
  },
  {
   "cell_type": "code",
   "execution_count": 2,
   "metadata": {},
   "outputs": [
    {
     "name": "stdout",
     "output_type": "stream",
     "text": [
      "start\n",
      "5107639\n",
      "time is :  29.72873568534851\n"
     ]
    }
   ],
   "source": [
    "print('start')\n",
    "\n",
    "start = time.time()\n",
    "train_behavior = pd.read_csv('./data/train/behaviors.tsv',sep ='\\t',header=None)\n",
    "###处理 behaviors.tsv 行为数据\n",
    "train_behavior.columns = ['index','id','timeStamp','clickHistory','impressionLog']\n",
    "impressionLog = train_behavior['clickHistory'].str.split(' ', expand=True).stack().reset_index(level = 1,drop = True)\n",
    "\n",
    "train_data = pd.DataFrame()\n",
    "train_data= train_behavior[['id']].join(pd.DataFrame(impressionLog,columns=['clickHistory']))\n",
    "\n",
    "train_data.dropna(axis=0, how='any', inplace=True)\n",
    "print(train_data.shape[0])\n",
    "print('time is : ',time.time() - start)\n"
   ]
  },
  {
   "cell_type": "markdown",
   "metadata": {},
   "source": [
    "# 2.读取test数据"
   ]
  },
  {
   "cell_type": "code",
   "execution_count": 3,
   "metadata": {},
   "outputs": [
    {
     "name": "stdout",
     "output_type": "stream",
     "text": [
      "start\n",
      "2362514\n",
      "time is :  9.256201982498169\n"
     ]
    }
   ],
   "source": [
    "print('start')\n",
    "\n",
    "start = time.time()\n",
    "test_behavior = pd.read_csv('./data/test/behaviors.tsv',sep ='\\t',header=None)\n",
    "###处理 behaviors.tsv 行为数据\n",
    "test_behavior.columns = ['index','id','timeStamp','clickHistory','impressionLog']\n",
    "impressionLog = test_behavior['clickHistory'].str.split(' ', expand=True).stack().reset_index(level = 1,drop = True)\n",
    "\n",
    "test_data = pd.DataFrame()\n",
    "test_data= test_behavior[['id']].join(pd.DataFrame(impressionLog,columns=['clickHistory']))\n",
    "\n",
    "test_data.dropna(axis=0, how='any', inplace=True)\n",
    "print(test_data.shape[0])\n",
    "print('time is : ',time.time() - start)"
   ]
  },
  {
   "cell_type": "markdown",
   "metadata": {},
   "source": [
    "# 3.合并train和test"
   ]
  },
  {
   "cell_type": "code",
   "execution_count": 4,
   "metadata": {
    "collapsed": true
   },
   "outputs": [],
   "source": [
    "all_data = pd.concat([train_data,test_data],axis=0).reset_index().drop('index',1)\n"
   ]
  },
  {
   "cell_type": "markdown",
   "metadata": {},
   "source": [
    "# 4.读取用户ID和历史点击新闻ID"
   ]
  },
  {
   "cell_type": "code",
   "execution_count": 5,
   "metadata": {},
   "outputs": [
    {
     "name": "stderr",
     "output_type": "stream",
     "text": [
      "100%|██████████| 91935/91935 [00:00<00:00, 1010663.08it/s]\n",
      "100%|██████████| 7470153/7470153 [00:06<00:00, 1164028.73it/s]\n",
      "100%|██████████| 44908/44908 [00:00<00:00, 864677.12it/s]\n",
      "100%|██████████| 7470153/7470153 [00:06<00:00, 1178871.05it/s]\n",
      "100%|██████████| 91935/91935 [00:00<00:00, 977445.78it/s]\n",
      "100%|██████████| 44908/44908 [00:00<00:00, 842138.74it/s]\n"
     ]
    }
   ],
   "source": [
    "\n",
    "## 用户id映射\n",
    "id_numbers = all_data['id'].drop_duplicates().shape[0]\n",
    "pre_id = all_data['id'].drop_duplicates().tolist()\n",
    "now_id = {}\n",
    "for index in tqdm(range(id_numbers)):\n",
    "    now_id[pre_id[index]] = index+1\n",
    "curr_id = all_data['id'].tolist()\n",
    "for index in tqdm(range(len(curr_id))):\n",
    "    curr_id[index] = now_id[curr_id[index]]\n",
    "    \n",
    "## 历史点击新闻ID映射    \n",
    "his_numbers = all_data['clickHistory'].drop_duplicates().shape[0]\n",
    "pre_his = all_data['clickHistory'].drop_duplicates().tolist()\n",
    "now_his = {}\n",
    "for index in tqdm(range(his_numbers)):\n",
    "    now_his[pre_his[index]] = id_numbers+index+1\n",
    "curr_his = all_data['clickHistory'].tolist()\n",
    "for index in tqdm(range(len(curr_id))):\n",
    "    curr_his[index] = now_his[curr_his[index]] \n",
    "\n",
    "## 用户id反向映射\n",
    "index_user = {}\n",
    "index_user[0] = 'None'\n",
    "for index in tqdm(range(id_numbers)):\n",
    "    index_user[index+1] = pre_id[index]\n",
    "    \n",
    "##新闻id反向映射\n",
    "index_news = {}\n",
    "index_news[0] = 'None'\n",
    "for index in tqdm(range(his_numbers)):\n",
    "    index_news[id_numbers+index+1] = pre_his[index]\n",
    "    \n",
    "##数据存储\n",
    "data = pd.DataFrame()\n",
    "data['id'] = curr_id\n",
    "data['his'] = curr_his\n",
    "data.to_csv('./data/id_news.csv',index=0,header=0,sep='\\t')"
   ]
  },
  {
   "cell_type": "markdown",
   "metadata": {},
   "source": [
    "# 5. 通过node2vec得到用户embedding\n"
   ]
  },
  {
   "cell_type": "code",
   "execution_count": 3,
   "metadata": {},
   "outputs": [
    {
     "name": "stdout",
     "output_type": "stream",
     "text": [
      "Took 0:0:25.74 to load graph\n",
      "Took 0:0:0.00 to pre-compute transition probabilities\n",
      "Took 0:5:13.74 to generate walks\n",
      "Took 0:5:55.29 to train embeddings\n"
     ]
    }
   ],
   "source": [
    "!pecanpy --input ./data/id_news.csv  --output ./data/news1.emb --mode SparseOTF --workers 44 --verbose --walk-length 100 \n",
    "\n"
   ]
  },
  {
   "cell_type": "markdown",
   "metadata": {},
   "source": [
    "# 6.用户ID获取"
   ]
  },
  {
   "cell_type": "code",
   "execution_count": 6,
   "metadata": {
    "scrolled": true
   },
   "outputs": [],
   "source": [
    "\n",
    "news_emb = pd.read_csv('./data/news1.emb',header=None)\n",
    "data = news_emb[0].str.split(' ',expand=True)\n",
    "new_data = pd.DataFrame()\n",
    "new_data['user'] = data[0]\n",
    "new_data['emb'] = data[[x for x in range(1,129)]].values.tolist()\n",
    "new_data = new_data[new_data['user'].astype(int)<91936]\n",
    "new_data['user'] = new_data['user'].astype(int)\n",
    "new_data.sort_values('user',inplace=True)\n",
    "new_data.to_csv('./data/user_emb1.csv',index=False)"
   ]
  },
  {
   "cell_type": "markdown",
   "metadata": {},
   "source": [
    "# 7.计算用户相似度"
   ]
  },
  {
   "cell_type": "markdown",
   "metadata": {},
   "source": [
    "# 8.相似用户存储"
   ]
  },
  {
   "cell_type": "code",
   "execution_count": 8,
   "metadata": {},
   "outputs": [
    {
     "name": "stderr",
     "output_type": "stream",
     "text": [
      "136843it [00:20, 6833.04it/s]\n"
     ]
    }
   ],
   "source": [
    "relation = pd.concat([neighbor_user,neighbor_news],0)\n",
    "relation_dict = dict()\n",
    "for index,row in tqdm(relation.iterrows()):\n",
    "    relation_dict[row['user']] = row['id']"
   ]
  },
  {
   "cell_type": "code",
   "execution_count": 9,
   "metadata": {},
   "outputs": [],
   "source": [
    "data = pd.DataFrame()\n",
    "news_emb = pd.read_csv('./data/news1.emb',header=None)\n",
    "temp = news_emb[0].str.split(' ',expand=True)\n",
    "\n",
    "data['user'] = temp[0]\n",
    "data['emb'] = temp[[x for x in range(1,129)]].values.tolist()\n",
    "data['user'] = data['user'].apply(lambda x : relation_dict[int(x)])\n",
    "\n"
   ]
  },
  {
   "cell_type": "code",
   "execution_count": 10,
   "metadata": {
    "collapsed": true
   },
   "outputs": [],
   "source": [
    "data.to_csv('./data/users_emb1.csv',index=False)"
   ]
  },
  {
   "cell_type": "markdown",
   "metadata": {},
   "source": [
    "# 9.user-item排序"
   ]
  },
  {
   "cell_type": "code",
   "execution_count": 11,
   "metadata": {},
   "outputs": [],
   "source": [
    "new_data = pd.read_csv('./data/users_emb1.csv')"
   ]
  },
  {
   "cell_type": "code",
   "execution_count": 12,
   "metadata": {},
   "outputs": [
    {
     "name": "stderr",
     "output_type": "stream",
     "text": [
      "136844it [00:21, 6383.07it/s]\n"
     ]
    }
   ],
   "source": [
    "##获取user matrix \n",
    "temp_user = {}\n",
    "temp_news = {}\n",
    "for index,row in tqdm(new_data.iterrows()):\n",
    "    user = row['user']\n",
    "    if user.startswith('U'):\n",
    "        temp_user[user] = row['emb']\n",
    "    else:\n",
    "        temp_news[user] = row['emb']\n",
    "user_matrix = pd.DataFrame()\n",
    "user_matrix['key'] = list(temp_user.keys())\n",
    "user_matrix['value'] = list(temp_user.values())\n",
    "user_matrix['value'] = user_matrix['value'].apply(lambda x : eval(x))\n",
    "user_matrix['value'] = user_matrix['value'].apply(lambda x : [float(y) for y in x])\n",
    "user_matrix.to_csv('./data/user_matrix1.csv',index=False)\n",
    "#获取item matrix\n",
    "news_matrix = pd.DataFrame()\n",
    "news_matrix['key'] = list(temp_news.keys())\n",
    "news_matrix['value'] = list(temp_news.values())\n",
    "news_matrix['value'] = news_matrix['value'].apply(lambda x : eval(x))\n",
    "news_matrix['value'] = news_matrix['value'].apply(lambda x : [float(y) for y in x])\n",
    "news_matrix.to_csv('./data/news_matrix1.csv',index=False)"
   ]
  },
  {
   "cell_type": "code",
   "execution_count": 13,
   "metadata": {},
   "outputs": [
    {
     "name": "stderr",
     "output_type": "stream",
     "text": [
      "100%|██████████| 91935/91935 [00:22<00:00, 4070.11it/s]\n"
     ]
    }
   ],
   "source": [
    "##计算user-item 点积\n",
    "temp = np.matmul(np.array(user_matrix['value'].values.tolist()),np.array(news_matrix['value'].values.tolist()).T) \n",
    "for index in tqdm(range(temp.shape[0])):\n",
    "    q = temp[index]\n",
    "    temp[index] =  q / q.sum()\n",
    "data = pd.DataFrame(temp,columns=list(temp_news.keys()))\n",
    "data['user'] = list(temp_user.keys())"
   ]
  },
  {
   "cell_type": "code",
   "execution_count": 14,
   "metadata": {},
   "outputs": [
    {
     "data": {
      "text/html": [
       "<div>\n",
       "<style scoped>\n",
       "    .dataframe tbody tr th:only-of-type {\n",
       "        vertical-align: middle;\n",
       "    }\n",
       "\n",
       "    .dataframe tbody tr th {\n",
       "        vertical-align: top;\n",
       "    }\n",
       "\n",
       "    .dataframe thead th {\n",
       "        text-align: right;\n",
       "    }\n",
       "</style>\n",
       "<table border=\"1\" class=\"dataframe\">\n",
       "  <thead>\n",
       "    <tr style=\"text-align: right;\">\n",
       "      <th></th>\n",
       "      <th>N10885</th>\n",
       "      <th>N33552</th>\n",
       "      <th>N1965</th>\n",
       "      <th>N36310</th>\n",
       "      <th>N44312</th>\n",
       "      <th>N25654</th>\n",
       "      <th>N6188</th>\n",
       "      <th>N42600</th>\n",
       "      <th>N21281</th>\n",
       "      <th>N61666</th>\n",
       "      <th>...</th>\n",
       "      <th>N5633</th>\n",
       "      <th>N21563</th>\n",
       "      <th>N42361</th>\n",
       "      <th>N1030</th>\n",
       "      <th>N55315</th>\n",
       "      <th>N54374</th>\n",
       "      <th>N18718</th>\n",
       "      <th>N34667</th>\n",
       "      <th>N58686</th>\n",
       "      <th>user</th>\n",
       "    </tr>\n",
       "  </thead>\n",
       "  <tbody>\n",
       "    <tr>\n",
       "      <th>0</th>\n",
       "      <td>0.000005</td>\n",
       "      <td>0.000011</td>\n",
       "      <td>0.000011</td>\n",
       "      <td>0.000006</td>\n",
       "      <td>0.000008</td>\n",
       "      <td>0.000015</td>\n",
       "      <td>0.000010</td>\n",
       "      <td>0.000008</td>\n",
       "      <td>0.000014</td>\n",
       "      <td>0.000018</td>\n",
       "      <td>...</td>\n",
       "      <td>0.000024</td>\n",
       "      <td>0.000022</td>\n",
       "      <td>0.000018</td>\n",
       "      <td>0.000020</td>\n",
       "      <td>0.000024</td>\n",
       "      <td>0.000013</td>\n",
       "      <td>0.000018</td>\n",
       "      <td>0.000019</td>\n",
       "      <td>0.000021</td>\n",
       "      <td>U63482</td>\n",
       "    </tr>\n",
       "    <tr>\n",
       "      <th>1</th>\n",
       "      <td>0.000020</td>\n",
       "      <td>0.000016</td>\n",
       "      <td>0.000006</td>\n",
       "      <td>0.000013</td>\n",
       "      <td>0.000013</td>\n",
       "      <td>0.000017</td>\n",
       "      <td>0.000012</td>\n",
       "      <td>0.000015</td>\n",
       "      <td>0.000011</td>\n",
       "      <td>0.000022</td>\n",
       "      <td>...</td>\n",
       "      <td>0.000024</td>\n",
       "      <td>0.000020</td>\n",
       "      <td>0.000014</td>\n",
       "      <td>0.000022</td>\n",
       "      <td>0.000019</td>\n",
       "      <td>0.000021</td>\n",
       "      <td>0.000015</td>\n",
       "      <td>0.000020</td>\n",
       "      <td>0.000017</td>\n",
       "      <td>U59594</td>\n",
       "    </tr>\n",
       "    <tr>\n",
       "      <th>2</th>\n",
       "      <td>0.000015</td>\n",
       "      <td>0.000009</td>\n",
       "      <td>0.000015</td>\n",
       "      <td>0.000014</td>\n",
       "      <td>0.000011</td>\n",
       "      <td>0.000017</td>\n",
       "      <td>0.000015</td>\n",
       "      <td>0.000013</td>\n",
       "      <td>0.000008</td>\n",
       "      <td>0.000015</td>\n",
       "      <td>...</td>\n",
       "      <td>0.000021</td>\n",
       "      <td>0.000034</td>\n",
       "      <td>0.000017</td>\n",
       "      <td>0.000020</td>\n",
       "      <td>0.000019</td>\n",
       "      <td>0.000012</td>\n",
       "      <td>0.000017</td>\n",
       "      <td>0.000024</td>\n",
       "      <td>0.000024</td>\n",
       "      <td>U44701</td>\n",
       "    </tr>\n",
       "    <tr>\n",
       "      <th>3</th>\n",
       "      <td>0.000023</td>\n",
       "      <td>0.000016</td>\n",
       "      <td>0.000018</td>\n",
       "      <td>0.000023</td>\n",
       "      <td>0.000020</td>\n",
       "      <td>0.000015</td>\n",
       "      <td>0.000021</td>\n",
       "      <td>0.000024</td>\n",
       "      <td>0.000018</td>\n",
       "      <td>0.000024</td>\n",
       "      <td>...</td>\n",
       "      <td>0.000018</td>\n",
       "      <td>0.000023</td>\n",
       "      <td>0.000016</td>\n",
       "      <td>0.000017</td>\n",
       "      <td>0.000017</td>\n",
       "      <td>0.000020</td>\n",
       "      <td>0.000019</td>\n",
       "      <td>0.000029</td>\n",
       "      <td>0.000022</td>\n",
       "      <td>U88718</td>\n",
       "    </tr>\n",
       "    <tr>\n",
       "      <th>4</th>\n",
       "      <td>0.000014</td>\n",
       "      <td>0.000015</td>\n",
       "      <td>0.000013</td>\n",
       "      <td>0.000016</td>\n",
       "      <td>0.000015</td>\n",
       "      <td>0.000025</td>\n",
       "      <td>0.000013</td>\n",
       "      <td>0.000024</td>\n",
       "      <td>0.000015</td>\n",
       "      <td>0.000017</td>\n",
       "      <td>...</td>\n",
       "      <td>0.000019</td>\n",
       "      <td>0.000018</td>\n",
       "      <td>0.000012</td>\n",
       "      <td>0.000021</td>\n",
       "      <td>0.000018</td>\n",
       "      <td>0.000017</td>\n",
       "      <td>0.000017</td>\n",
       "      <td>0.000022</td>\n",
       "      <td>0.000020</td>\n",
       "      <td>U84756</td>\n",
       "    </tr>\n",
       "    <tr>\n",
       "      <th>...</th>\n",
       "      <td>...</td>\n",
       "      <td>...</td>\n",
       "      <td>...</td>\n",
       "      <td>...</td>\n",
       "      <td>...</td>\n",
       "      <td>...</td>\n",
       "      <td>...</td>\n",
       "      <td>...</td>\n",
       "      <td>...</td>\n",
       "      <td>...</td>\n",
       "      <td>...</td>\n",
       "      <td>...</td>\n",
       "      <td>...</td>\n",
       "      <td>...</td>\n",
       "      <td>...</td>\n",
       "      <td>...</td>\n",
       "      <td>...</td>\n",
       "      <td>...</td>\n",
       "      <td>...</td>\n",
       "      <td>...</td>\n",
       "      <td>...</td>\n",
       "    </tr>\n",
       "    <tr>\n",
       "      <th>91930</th>\n",
       "      <td>0.000021</td>\n",
       "      <td>0.000015</td>\n",
       "      <td>0.000018</td>\n",
       "      <td>0.000019</td>\n",
       "      <td>0.000020</td>\n",
       "      <td>0.000017</td>\n",
       "      <td>0.000019</td>\n",
       "      <td>0.000017</td>\n",
       "      <td>0.000018</td>\n",
       "      <td>0.000018</td>\n",
       "      <td>...</td>\n",
       "      <td>0.000019</td>\n",
       "      <td>0.000020</td>\n",
       "      <td>0.000021</td>\n",
       "      <td>0.000020</td>\n",
       "      <td>0.000019</td>\n",
       "      <td>0.000017</td>\n",
       "      <td>0.000022</td>\n",
       "      <td>0.000019</td>\n",
       "      <td>0.000020</td>\n",
       "      <td>U7024</td>\n",
       "    </tr>\n",
       "    <tr>\n",
       "      <th>91931</th>\n",
       "      <td>0.000021</td>\n",
       "      <td>0.000018</td>\n",
       "      <td>0.000019</td>\n",
       "      <td>0.000019</td>\n",
       "      <td>0.000017</td>\n",
       "      <td>0.000022</td>\n",
       "      <td>0.000019</td>\n",
       "      <td>0.000018</td>\n",
       "      <td>0.000020</td>\n",
       "      <td>0.000018</td>\n",
       "      <td>...</td>\n",
       "      <td>0.000022</td>\n",
       "      <td>0.000022</td>\n",
       "      <td>0.000021</td>\n",
       "      <td>0.000021</td>\n",
       "      <td>0.000020</td>\n",
       "      <td>0.000020</td>\n",
       "      <td>0.000019</td>\n",
       "      <td>0.000020</td>\n",
       "      <td>0.000019</td>\n",
       "      <td>U33599</td>\n",
       "    </tr>\n",
       "    <tr>\n",
       "      <th>91932</th>\n",
       "      <td>0.000018</td>\n",
       "      <td>0.000018</td>\n",
       "      <td>0.000015</td>\n",
       "      <td>0.000017</td>\n",
       "      <td>0.000016</td>\n",
       "      <td>0.000016</td>\n",
       "      <td>0.000017</td>\n",
       "      <td>0.000023</td>\n",
       "      <td>0.000013</td>\n",
       "      <td>0.000021</td>\n",
       "      <td>...</td>\n",
       "      <td>0.000018</td>\n",
       "      <td>0.000021</td>\n",
       "      <td>0.000017</td>\n",
       "      <td>0.000018</td>\n",
       "      <td>0.000018</td>\n",
       "      <td>0.000017</td>\n",
       "      <td>0.000021</td>\n",
       "      <td>0.000025</td>\n",
       "      <td>0.000021</td>\n",
       "      <td>U23577</td>\n",
       "    </tr>\n",
       "    <tr>\n",
       "      <th>91933</th>\n",
       "      <td>0.000021</td>\n",
       "      <td>0.000023</td>\n",
       "      <td>0.000025</td>\n",
       "      <td>0.000022</td>\n",
       "      <td>0.000024</td>\n",
       "      <td>0.000021</td>\n",
       "      <td>0.000024</td>\n",
       "      <td>0.000020</td>\n",
       "      <td>0.000022</td>\n",
       "      <td>0.000025</td>\n",
       "      <td>...</td>\n",
       "      <td>0.000021</td>\n",
       "      <td>0.000018</td>\n",
       "      <td>0.000021</td>\n",
       "      <td>0.000024</td>\n",
       "      <td>0.000020</td>\n",
       "      <td>0.000022</td>\n",
       "      <td>0.000020</td>\n",
       "      <td>0.000018</td>\n",
       "      <td>0.000018</td>\n",
       "      <td>U69014</td>\n",
       "    </tr>\n",
       "    <tr>\n",
       "      <th>91934</th>\n",
       "      <td>0.000027</td>\n",
       "      <td>0.000023</td>\n",
       "      <td>0.000023</td>\n",
       "      <td>0.000021</td>\n",
       "      <td>0.000025</td>\n",
       "      <td>0.000020</td>\n",
       "      <td>0.000021</td>\n",
       "      <td>0.000021</td>\n",
       "      <td>0.000021</td>\n",
       "      <td>0.000021</td>\n",
       "      <td>...</td>\n",
       "      <td>0.000018</td>\n",
       "      <td>0.000023</td>\n",
       "      <td>0.000023</td>\n",
       "      <td>0.000019</td>\n",
       "      <td>0.000020</td>\n",
       "      <td>0.000022</td>\n",
       "      <td>0.000020</td>\n",
       "      <td>0.000023</td>\n",
       "      <td>0.000020</td>\n",
       "      <td>U17418</td>\n",
       "    </tr>\n",
       "  </tbody>\n",
       "</table>\n",
       "<p>91935 rows × 44909 columns</p>\n",
       "</div>"
      ],
      "text/plain": [
       "         N10885    N33552     N1965    N36310    N44312    N25654     N6188  \\\n",
       "0      0.000005  0.000011  0.000011  0.000006  0.000008  0.000015  0.000010   \n",
       "1      0.000020  0.000016  0.000006  0.000013  0.000013  0.000017  0.000012   \n",
       "2      0.000015  0.000009  0.000015  0.000014  0.000011  0.000017  0.000015   \n",
       "3      0.000023  0.000016  0.000018  0.000023  0.000020  0.000015  0.000021   \n",
       "4      0.000014  0.000015  0.000013  0.000016  0.000015  0.000025  0.000013   \n",
       "...         ...       ...       ...       ...       ...       ...       ...   \n",
       "91930  0.000021  0.000015  0.000018  0.000019  0.000020  0.000017  0.000019   \n",
       "91931  0.000021  0.000018  0.000019  0.000019  0.000017  0.000022  0.000019   \n",
       "91932  0.000018  0.000018  0.000015  0.000017  0.000016  0.000016  0.000017   \n",
       "91933  0.000021  0.000023  0.000025  0.000022  0.000024  0.000021  0.000024   \n",
       "91934  0.000027  0.000023  0.000023  0.000021  0.000025  0.000020  0.000021   \n",
       "\n",
       "         N42600    N21281    N61666  ...     N5633    N21563    N42361  \\\n",
       "0      0.000008  0.000014  0.000018  ...  0.000024  0.000022  0.000018   \n",
       "1      0.000015  0.000011  0.000022  ...  0.000024  0.000020  0.000014   \n",
       "2      0.000013  0.000008  0.000015  ...  0.000021  0.000034  0.000017   \n",
       "3      0.000024  0.000018  0.000024  ...  0.000018  0.000023  0.000016   \n",
       "4      0.000024  0.000015  0.000017  ...  0.000019  0.000018  0.000012   \n",
       "...         ...       ...       ...  ...       ...       ...       ...   \n",
       "91930  0.000017  0.000018  0.000018  ...  0.000019  0.000020  0.000021   \n",
       "91931  0.000018  0.000020  0.000018  ...  0.000022  0.000022  0.000021   \n",
       "91932  0.000023  0.000013  0.000021  ...  0.000018  0.000021  0.000017   \n",
       "91933  0.000020  0.000022  0.000025  ...  0.000021  0.000018  0.000021   \n",
       "91934  0.000021  0.000021  0.000021  ...  0.000018  0.000023  0.000023   \n",
       "\n",
       "          N1030    N55315    N54374    N18718    N34667    N58686    user  \n",
       "0      0.000020  0.000024  0.000013  0.000018  0.000019  0.000021  U63482  \n",
       "1      0.000022  0.000019  0.000021  0.000015  0.000020  0.000017  U59594  \n",
       "2      0.000020  0.000019  0.000012  0.000017  0.000024  0.000024  U44701  \n",
       "3      0.000017  0.000017  0.000020  0.000019  0.000029  0.000022  U88718  \n",
       "4      0.000021  0.000018  0.000017  0.000017  0.000022  0.000020  U84756  \n",
       "...         ...       ...       ...       ...       ...       ...     ...  \n",
       "91930  0.000020  0.000019  0.000017  0.000022  0.000019  0.000020   U7024  \n",
       "91931  0.000021  0.000020  0.000020  0.000019  0.000020  0.000019  U33599  \n",
       "91932  0.000018  0.000018  0.000017  0.000021  0.000025  0.000021  U23577  \n",
       "91933  0.000024  0.000020  0.000022  0.000020  0.000018  0.000018  U69014  \n",
       "91934  0.000019  0.000020  0.000022  0.000020  0.000023  0.000020  U17418  \n",
       "\n",
       "[91935 rows x 44909 columns]"
      ]
     },
     "execution_count": 14,
     "metadata": {},
     "output_type": "execute_result"
    }
   ],
   "source": [
    "data"
   ]
  },
  {
   "cell_type": "code",
   "execution_count": 15,
   "metadata": {},
   "outputs": [
    {
     "name": "stderr",
     "output_type": "stream",
     "text": [
      "100%|██████████| 44908/44908 [00:00<00:00, 619432.99it/s]\n",
      "100%|██████████| 91935/91935 [07:23<00:00, 207.20it/s]\n"
     ]
    }
   ],
   "source": [
    "##获取前k个item\n",
    "item_dict = dict()\n",
    "columns = list(temp_news.keys())\n",
    "for index in tqdm(range(len(columns))):\n",
    "    item_dict[index] = columns[index]\n",
    "\n",
    "user_item = []\n",
    "columns=list(temp_news.keys())\n",
    "k = 30\n",
    "for index in tqdm(range(temp.shape[0])):\n",
    "    item = temp[index]\n",
    "    top_index = np.argsort(-item)\n",
    "    top_temp = []\n",
    "    \n",
    "    for index in range(len(top_index[:k])):\n",
    "        top_temp.append(item_dict[top_index[index]])\n",
    "    user_item.append(top_temp)"
   ]
  },
  {
   "cell_type": "code",
   "execution_count": 16,
   "metadata": {
    "collapsed": true
   },
   "outputs": [],
   "source": [
    "##存储user_item前k\n",
    "data = pd.DataFrame()\n",
    "data['user'] = list(temp_user.keys())\n",
    "data['item'] = user_item\n",
    "data.to_csv('./data/user_item_nearst1.csv',index=False)"
   ]
  },
  {
   "cell_type": "code",
   "execution_count": 17,
   "metadata": {},
   "outputs": [
    {
     "data": {
      "text/html": [
       "<div>\n",
       "<style scoped>\n",
       "    .dataframe tbody tr th:only-of-type {\n",
       "        vertical-align: middle;\n",
       "    }\n",
       "\n",
       "    .dataframe tbody tr th {\n",
       "        vertical-align: top;\n",
       "    }\n",
       "\n",
       "    .dataframe thead th {\n",
       "        text-align: right;\n",
       "    }\n",
       "</style>\n",
       "<table border=\"1\" class=\"dataframe\">\n",
       "  <thead>\n",
       "    <tr style=\"text-align: right;\">\n",
       "      <th></th>\n",
       "      <th>user</th>\n",
       "      <th>item</th>\n",
       "    </tr>\n",
       "  </thead>\n",
       "  <tbody>\n",
       "    <tr>\n",
       "      <th>0</th>\n",
       "      <td>U63482</td>\n",
       "      <td>[N35868, N1717, N27990, N28581, N63637, N20464...</td>\n",
       "    </tr>\n",
       "    <tr>\n",
       "      <th>1</th>\n",
       "      <td>U59594</td>\n",
       "      <td>[N46619, N63260, N48110, N33724, N25763, N3083...</td>\n",
       "    </tr>\n",
       "    <tr>\n",
       "      <th>2</th>\n",
       "      <td>U44701</td>\n",
       "      <td>[N6069, N53927, N62671, N41566, N18533, N12520...</td>\n",
       "    </tr>\n",
       "    <tr>\n",
       "      <th>3</th>\n",
       "      <td>U88718</td>\n",
       "      <td>[N7170, N29141, N34821, N12443, N11036, N40361...</td>\n",
       "    </tr>\n",
       "    <tr>\n",
       "      <th>4</th>\n",
       "      <td>U84756</td>\n",
       "      <td>[N26459, N46414, N1452, N468, N60629, N53127, ...</td>\n",
       "    </tr>\n",
       "    <tr>\n",
       "      <th>...</th>\n",
       "      <td>...</td>\n",
       "      <td>...</td>\n",
       "    </tr>\n",
       "    <tr>\n",
       "      <th>91930</th>\n",
       "      <td>U7024</td>\n",
       "      <td>[N40191, N33080, N28681, N62671, N38919, N5361...</td>\n",
       "    </tr>\n",
       "    <tr>\n",
       "      <th>91931</th>\n",
       "      <td>U33599</td>\n",
       "      <td>[N40191, N28681, N62671, N33080, N4519, N38936...</td>\n",
       "    </tr>\n",
       "    <tr>\n",
       "      <th>91932</th>\n",
       "      <td>U23577</td>\n",
       "      <td>[N62671, N33080, N40191, N28681, N36507, N326,...</td>\n",
       "    </tr>\n",
       "    <tr>\n",
       "      <th>91933</th>\n",
       "      <td>U69014</td>\n",
       "      <td>[N40191, N33080, N28681, N62671, N24594, N5758...</td>\n",
       "    </tr>\n",
       "    <tr>\n",
       "      <th>91934</th>\n",
       "      <td>U17418</td>\n",
       "      <td>[N40191, N33080, N62671, N28681, N11527, N3451...</td>\n",
       "    </tr>\n",
       "  </tbody>\n",
       "</table>\n",
       "<p>91935 rows × 2 columns</p>\n",
       "</div>"
      ],
      "text/plain": [
       "         user                                               item\n",
       "0      U63482  [N35868, N1717, N27990, N28581, N63637, N20464...\n",
       "1      U59594  [N46619, N63260, N48110, N33724, N25763, N3083...\n",
       "2      U44701  [N6069, N53927, N62671, N41566, N18533, N12520...\n",
       "3      U88718  [N7170, N29141, N34821, N12443, N11036, N40361...\n",
       "4      U84756  [N26459, N46414, N1452, N468, N60629, N53127, ...\n",
       "...       ...                                                ...\n",
       "91930   U7024  [N40191, N33080, N28681, N62671, N38919, N5361...\n",
       "91931  U33599  [N40191, N28681, N62671, N33080, N4519, N38936...\n",
       "91932  U23577  [N62671, N33080, N40191, N28681, N36507, N326,...\n",
       "91933  U69014  [N40191, N33080, N28681, N62671, N24594, N5758...\n",
       "91934  U17418  [N40191, N33080, N62671, N28681, N11527, N3451...\n",
       "\n",
       "[91935 rows x 2 columns]"
      ]
     },
     "execution_count": 17,
     "metadata": {},
     "output_type": "execute_result"
    }
   ],
   "source": [
    "data"
   ]
  },
  {
   "cell_type": "code",
   "execution_count": 18,
   "metadata": {},
   "outputs": [
    {
     "name": "stderr",
     "output_type": "stream",
     "text": [
      "91935it [00:14, 6297.37it/s]\n"
     ]
    }
   ],
   "source": [
    "#读取user_item前k矩阵\n",
    "user_item = pd.read_csv('./data/user_item_nearst1.csv')\n",
    "user_item['item'] = user_item['item'].apply(lambda x : eval(x))\n",
    "user_item\n",
    "\n",
    "item_dict = dict()\n",
    "for index,row in tqdm(user_item.iterrows()):\n",
    "   item_dict[row['user']] = row['item']"
   ]
  },
  {
   "cell_type": "code",
   "execution_count": 19,
   "metadata": {},
   "outputs": [
    {
     "name": "stderr",
     "output_type": "stream",
     "text": [
      "156965it [00:32, 4885.41it/s]\n"
     ]
    }
   ],
   "source": [
    "#train补充邻居信息\n",
    "train_behavior = pd.read_csv('./data/train/behaviors.tsv',sep ='\\t',header=None)\n",
    "train_behavior.columns = ['index','id','timeStamp','clickHistory','impressionLog']\n",
    "temp_his = []\n",
    "for index,row in tqdm(train_behavior.iterrows()):\n",
    "    if type(row['clickHistory']) == float:\n",
    "        curr = None\n",
    "    else:\n",
    "        curr = row['clickHistory'].split(' ')\n",
    "        length = len(curr)\n",
    "        if(length < 15):\n",
    "            nearst_item = item_dict[row['id']]\n",
    "            curr.extend(nearst_item[:15-length])\n",
    "    temp_his.append(curr)\n",
    "train_behavior['clickHistory'] = temp_his\n",
    "train_behavior.to_csv('./data/train/trainBehavior_social1.csv',index=False)"
   ]
  },
  {
   "cell_type": "code",
   "execution_count": 20,
   "metadata": {},
   "outputs": [
    {
     "name": "stderr",
     "output_type": "stream",
     "text": [
      "73152it [00:12, 5877.06it/s]\n"
     ]
    }
   ],
   "source": [
    "#test补充邻居信息\n",
    "test_behavior = pd.read_csv('./data/test/behaviors.tsv',sep ='\\t',header=None)\n",
    "test_behavior.columns = ['index','id','timeStamp','clickHistory','impressionLog']\n",
    "temp_his = []\n",
    "for index,row in tqdm(test_behavior.iterrows()):\n",
    "    if type(row['clickHistory']) == float:\n",
    "        curr = None\n",
    "    else:\n",
    "        curr = row['clickHistory'].split(' ')\n",
    "        length = len(curr)\n",
    "        if(length < 15):\n",
    "            nearst_item = item_dict[row['id']]\n",
    "            curr.extend(nearst_item[:15-length])\n",
    "    temp_his.append(curr)\n",
    "test_behavior['clickHistory'] = temp_his\n",
    "test_behavior.to_csv('./data/test/testBehavior_social1.csv',index=False)"
   ]
  },
  {
   "cell_type": "code",
   "execution_count": null,
   "metadata": {
    "collapsed": true
   },
   "outputs": [],
   "source": []
  }
 ],
 "metadata": {
  "kernelspec": {
   "display_name": "Python 3",
   "language": "python",
   "name": "python3"
  },
  "language_info": {
   "codemirror_mode": {
    "name": "ipython",
    "version": 3
   },
   "file_extension": ".py",
   "mimetype": "text/x-python",
   "name": "python",
   "nbconvert_exporter": "python",
   "pygments_lexer": "ipython3",
   "version": "3.6.11"
  }
 },
 "nbformat": 4,
 "nbformat_minor": 4
}
