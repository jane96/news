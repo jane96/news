{
 "cells": [
  {
   "cell_type": "markdown",
   "metadata": {},
   "source": [
    "# import声明"
   ]
  },
  {
   "cell_type": "code",
   "execution_count": null,
   "metadata": {},
   "outputs": [],
   "source": [
    "import pandas as pd\n",
    "import numpy as np\n",
    "import faiss\n",
    "from tqdm import tqdm\n",
    "import time"
   ]
  },
  {
   "cell_type": "markdown",
   "metadata": {},
   "source": [
    "#  1.读取train数据"
   ]
  },
  {
   "cell_type": "code",
   "execution_count": 17,
   "metadata": {},
   "outputs": [
    {
     "name": "stdout",
     "output_type": "stream",
     "text": [
      "start\n",
      "5107639\n",
      "time is :  24.138913869857788\n"
     ]
    }
   ],
   "source": [
    "print('start')\n",
    "\n",
    "start = time.time()\n",
    "train_behavior = pd.read_csv('./data/train/behaviors.tsv',sep ='\\t',header=None)\n",
    "###处理 behaviors.tsv 行为数据\n",
    "train_behavior.columns = ['index','id','timeStamp','clickHistory','impressionLog']\n",
    "impressionLog = train_behavior['clickHistory'].str.split(' ', expand=True).stack().reset_index(level = 1,drop = True)\n",
    "\n",
    "train_data = pd.DataFrame()\n",
    "train_data= train_behavior[['id']].join(pd.DataFrame(impressionLog,columns=['clickHistory']))\n",
    "\n",
    "train_data.dropna(axis=0, how='any', inplace=True)\n",
    "print(train_data.shape[0])\n",
    "print('time is : ',time.time() - start)\n"
   ]
  },
  {
   "cell_type": "markdown",
   "metadata": {},
   "source": [
    "# 2.读取test数据"
   ]
  },
  {
   "cell_type": "code",
   "execution_count": null,
   "metadata": {},
   "outputs": [],
   "source": [
    "print('start')\n",
    "\n",
    "start = time.time()\n",
    "test_behavior = pd.read_csv('./data/test/behaviors.tsv',sep ='\\t',header=None)\n",
    "###处理 behaviors.tsv 行为数据\n",
    "test_behavior.columns = ['index','id','timeStamp','clickHistory','impressionLog']\n",
    "impressionLog = test_behavior['clickHistory'].str.split(' ', expand=True).stack().reset_index(level = 1,drop = True)\n",
    "\n",
    "test_data = pd.DataFrame()\n",
    "test_data= test_behavior[['id']].join(pd.DataFrame(impressionLog,columns=['clickHistory']))\n",
    "\n",
    "test_data.dropna(axis=0, how='any', inplace=True)\n",
    "print(test_data.shape[0])\n",
    "print('time is : ',time.time() - start)"
   ]
  },
  {
   "cell_type": "markdown",
   "metadata": {},
   "source": [
    "# 3.合并train和test"
   ]
  },
  {
   "cell_type": "code",
   "execution_count": 19,
   "metadata": {},
   "outputs": [],
   "source": [
    "all_data = pd.concat([train_data,test_data],axis=0).reset_index().drop('index',1)\n"
   ]
  },
  {
   "cell_type": "markdown",
   "metadata": {},
   "source": [
    "# 4.读取用户ID和历史点击新闻ID"
   ]
  },
  {
   "cell_type": "code",
   "execution_count": 20,
   "metadata": {},
   "outputs": [
    {
     "name": "stderr",
     "output_type": "stream",
     "text": [
      "100%|██████████| 91935/91935 [00:00<00:00, 972775.48it/s]\n",
      "100%|██████████| 7470153/7470153 [00:05<00:00, 1393514.21it/s]\n"
     ]
    }
   ],
   "source": [
    "\n",
    "## 用户id映射\n",
    "id_numbers = all_data['id'].drop_duplicates().shape[0]\n",
    "pre_id = all_data['id'].drop_duplicates().tolist()\n",
    "now_id = {}\n",
    "for index in tqdm(range(id_numbers)):\n",
    "    now_id[pre_id[index]] = index+1\n",
    "curr_id = all_data['id'].tolist()\n",
    "for index in tqdm(range(len(curr_id))):\n",
    "    curr_id[index] = now_id[curr_id[index]]\n",
    "    \n",
    "## 历史点击新闻ID映射    \n",
    "his_numbers = all_data['clickHistory'].drop_duplicates().shape[0]\n",
    "pre_his = all_data['clickHistory'].drop_duplicates().tolist()\n",
    "now_his = {}\n",
    "for index in tqdm(range(his_numbers)):\n",
    "    now_his[pre_his[index]] = id_numbers+index+1\n",
    "curr_his = all_data['clickHistory'].tolist()\n",
    "for index in tqdm(range(len(curr_id))):\n",
    "    curr_his[index] = now_his[curr_his[index]] \n",
    "\n",
    "## 用户id反向映射\n",
    "index_user = {}\n",
    "index_user[-1] = 'None'\n",
    "for index in tqdm(range(id_numbers)):\n",
    "    index_user[index] = pre_id[index]\n",
    "    \n",
    "##数据存储\n",
    "data = pd.DataFrame()\n",
    "data['id'] = curr_id\n",
    "data['his'] = curr_his\n",
    "data.to_csv('./data/id_news.csv',index=0,header=0,sep='\\t')"
   ]
  },
  {
   "cell_type": "markdown",
   "metadata": {},
   "source": [
    "# 5. 通过node2vec得到用户embedding\n"
   ]
  },
  {
   "cell_type": "code",
   "execution_count": null,
   "metadata": {},
   "outputs": [],
   "source": [
    "!pecanpy --input ./data/id_news.csv  --output ./data/news.emb --mode SparseOTF --workers 44\n"
   ]
  },
  {
   "cell_type": "markdown",
   "metadata": {},
   "source": [
    "# 6.用户ID获取"
   ]
  },
  {
   "cell_type": "code",
   "execution_count": null,
   "metadata": {
    "scrolled": true
   },
   "outputs": [],
   "source": [
    "\n",
    "news_emb = pd.read_csv('./data/news.emb',header=None)\n",
    "data = news_emb[0].str.split(' ',expand=True)\n",
    "new_data = pd.DataFrame()\n",
    "new_data['user'] = data[0]\n",
    "new_data['emb'] = data[[x for x in range(1,129)]].values.tolist()\n",
    "new_data = new_data[new_data['user'].astype(int)<91936]\n",
    "new_data['user'] = new_data['user'].astype(int)\n",
    "new_data.sort_values('user',inplace=True)\n",
    "new_data.to_csv('./data/user_emb.csv',index=False)"
   ]
  },
  {
   "cell_type": "markdown",
   "metadata": {},
   "source": [
    "# 7.计算用户相似度"
   ]
  },
  {
   "cell_type": "code",
   "execution_count": 7,
   "metadata": {},
   "outputs": [],
   "source": [
    "\n",
    "new_data = pd.read_csv('./data/user_emb.csv')\n",
    "emb = new_data['emb'].apply(lambda x : [float(y) for y in eval(x)]).values.tolist()\n",
    "emb = np.array(emb).astype('float32')\n",
    "d = 128\n",
    "nlist = 100\n",
    "quantizer = faiss.IndexFlatL2(d)  # the other index\n",
    "gpu_index = faiss.index_cpu_to_all_gpus(quantizer) # build the index\n",
    "index = faiss.IndexIVFFlat(gpu_index,d,nlist,faiss.METRIC_L2)\n",
    "index.train(emb)\n",
    "index.add(emb)\n",
    "\n",
    "k = 5\n",
    "D,I = index.search(emb,k)\n",
    "\n"
   ]
  },
  {
   "cell_type": "markdown",
   "metadata": {},
   "source": [
    "# 8.相似用户存储"
   ]
  },
  {
   "cell_type": "code",
   "execution_count": 15,
   "metadata": {},
   "outputs": [],
   "source": [
    "neighbor = pd.DataFrame()\n",
    "user = [x for x in range(91935)]\n",
    "nearst = []\n",
    "arr = I.tolist()\n",
    "for index in range(I.shape[0]):\n",
    "    nearst.append(arr[index][1:])\n",
    "neighbor['user'] = user\n",
    "neighbor['nearst'] = nearst\n",
    "neighbor['user'] =  neighbor['user'].apply(lambda x : index_user[int(x)])\n",
    "neighbor['nearst'] =  neighbor['nearst'].apply(lambda x : [index_user[int(y)] for y in x])\n",
    "neighbor.to_csv('./data/nearst_4.csv',index=False)"
   ]
  },
  {
   "cell_type": "code",
   "execution_count": 34,
   "metadata": {},
   "outputs": [],
   "source": []
  },
  {
   "cell_type": "code",
   "execution_count": null,
   "metadata": {},
   "outputs": [],
   "source": []
  }
 ],
 "metadata": {
  "kernelspec": {
   "display_name": "Python 3",
   "language": "python",
   "name": "python3"
  },
  "language_info": {
   "codemirror_mode": {
    "name": "ipython",
    "version": 3
   },
   "file_extension": ".py",
   "mimetype": "text/x-python",
   "name": "python",
   "nbconvert_exporter": "python",
   "pygments_lexer": "ipython3",
   "version": "3.6.12"
  }
 },
 "nbformat": 4,
 "nbformat_minor": 4
}
