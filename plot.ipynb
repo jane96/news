{
 "cells": [
  {
   "cell_type": "code",
   "execution_count": 2,
   "metadata": {},
   "outputs": [],
   "source": [
    "from tqdm import tqdm\n",
    "import re\n",
    "import numpy as np\n",
    "import pandas as pd\n",
    "import threading\n",
    "import multiprocessing\n",
    "from multiprocessing import Process\n",
    "import time\n",
    "from matplotlib import pyplot as plt "
   ]
  },
  {
   "cell_type": "markdown",
   "metadata": {},
   "source": [
    "# 1.用户历史新闻点击记录"
   ]
  },
  {
   "cell_type": "code",
   "execution_count": 6,
   "metadata": {},
   "outputs": [
    {
     "name": "stderr",
     "output_type": "stream",
     "text": [
      "94057it [00:24, 3826.01it/s]\n"
     ]
    },
    {
     "data": {
      "image/png": "[encoded data removed]",
      "text/plain": [
       "<Figure size 432x288 with 1 Axes>"
      ]
     },
     "metadata": {
      "needs_background": "light"
     },
     "output_type": "display_data"
    },
    {
     "name": "stdout",
     "output_type": "stream",
     "text": [
      "74173\n"
     ]
    }
   ],
   "source": [
    "train_behavior = pd.read_csv('./data/train/behaviors.tsv',sep ='\\t',header=None)\n",
    "train_behavior.columns = ['index','id','timeStamp','clickHistory','impressionLog']\n",
    "test_behavior = pd.read_csv('./data/test/behaviors.tsv',sep ='\\t',header=None)\n",
    "test_behavior.columns = ['index','id','timeStamp','clickHistory','impressionLog']\n",
    "behavior = pd.concat([train_behavior,test_behavior],0)\n",
    "\n",
    "temp = behavior.drop_duplicates('id')\n",
    "history_len_dict = dict()\n",
    "history_len_dict[0] = 0\n",
    "for index,row in tqdm(temp.iterrows()):\n",
    "    if(type(row['clickHistory']) == float):\n",
    "        history_len_dict[0] += 1\n",
    "        continue\n",
    "    key = len(row['clickHistory'].split(' '))\n",
    "    if key not in history_len_dict:\n",
    "        history_len_dict[key] = 1\n",
    "    else:\n",
    "        history_len_dict[key] += 1\n",
    "\n",
    "\n",
    "temp_x =  history_len_dict.keys()\n",
    "temp_y =  history_len_dict.values()\n",
    "x = []\n",
    "y = []\n",
    "sum_value = 0\n",
    "for index in temp_x:\n",
    "    if(index <=30):\n",
    "        x.append(index)\n",
    "        y.append(history_len_dict[index])\n",
    "        sum_value += history_len_dict[index]\n",
    "\n",
    "plt.bar(x, y, color =  'g',align =  'center') \n",
    "plt.title('the length of click news title') \n",
    "plt.ylabel('count') \n",
    "plt.xlabel('length') \n",
    "plt.show()\n",
    "print(sum_value)"
   ]
  },
  {
   "cell_type": "code",
   "execution_count": null,
   "metadata": {},
   "outputs": [],
   "source": [
    "temp_x = list(temp_x)\n",
    "temp_y = list(temp_y)\n",
    "\n",
    "value = 0\n",
    "for index in range(len(temp_x)):\n",
    "    value += temp_x[index] * temp_y[index]\n",
    "value / temp.shape[0]"
   ]
  },
  {
   "cell_type": "code",
   "execution_count": 4,
   "metadata": {},
   "outputs": [
    {
     "data": {
      "text/html": [
       "<div>\n",
       "<style scoped>\n",
       "    .dataframe tbody tr th:only-of-type {\n",
       "        vertical-align: middle;\n",
       "    }\n",
       "\n",
       "    .dataframe tbody tr th {\n",
       "        vertical-align: top;\n",
       "    }\n",
       "\n",
       "    .dataframe thead th {\n",
       "        text-align: right;\n",
       "    }\n",
       "</style>\n",
       "<table border=\"1\" class=\"dataframe\">\n",
       "  <thead>\n",
       "    <tr style=\"text-align: right;\">\n",
       "      <th></th>\n",
       "      <th>user</th>\n",
       "      <th>item</th>\n",
       "    </tr>\n",
       "  </thead>\n",
       "  <tbody>\n",
       "    <tr>\n",
       "      <th>0</th>\n",
       "      <td>U63482</td>\n",
       "      <td>['N62671', 'N28681', 'N33080', 'N43005', 'N687...</td>\n",
       "    </tr>\n",
       "    <tr>\n",
       "      <th>1</th>\n",
       "      <td>U88718</td>\n",
       "      <td>['N62671', 'N28681', 'N7170', 'N6763', 'N17488...</td>\n",
       "    </tr>\n",
       "    <tr>\n",
       "      <th>2</th>\n",
       "      <td>U44701</td>\n",
       "      <td>['N62671', 'N28681', 'N33080', 'N18043', 'N176...</td>\n",
       "    </tr>\n",
       "    <tr>\n",
       "      <th>3</th>\n",
       "      <td>U59594</td>\n",
       "      <td>['N28681', 'N62671', 'N46619', 'N29769', 'N481...</td>\n",
       "    </tr>\n",
       "    <tr>\n",
       "      <th>4</th>\n",
       "      <td>U84756</td>\n",
       "      <td>['N28681', 'N62671', 'N60472', 'N468', 'N59140...</td>\n",
       "    </tr>\n",
       "    <tr>\n",
       "      <th>...</th>\n",
       "      <td>...</td>\n",
       "      <td>...</td>\n",
       "    </tr>\n",
       "    <tr>\n",
       "      <th>91930</th>\n",
       "      <td>U59528</td>\n",
       "      <td>['N28681', 'N62671', 'N33080', 'N40191', 'N482...</td>\n",
       "    </tr>\n",
       "    <tr>\n",
       "      <th>91931</th>\n",
       "      <td>U71961</td>\n",
       "      <td>['N28681', 'N62671', 'N33080', 'N40191', 'N788...</td>\n",
       "    </tr>\n",
       "    <tr>\n",
       "      <th>91932</th>\n",
       "      <td>U35924</td>\n",
       "      <td>['N28681', 'N62671', 'N33080', 'N40191', 'N352...</td>\n",
       "    </tr>\n",
       "    <tr>\n",
       "      <th>91933</th>\n",
       "      <td>U16579</td>\n",
       "      <td>['N28681', 'N62671', 'N33080', 'N40191', 'N696...</td>\n",
       "    </tr>\n",
       "    <tr>\n",
       "      <th>91934</th>\n",
       "      <td>U46290</td>\n",
       "      <td>['N28681', 'N62671', 'N33080', 'N40191', 'N492...</td>\n",
       "    </tr>\n",
       "  </tbody>\n",
       "</table>\n",
       "<p>91935 rows × 2 columns</p>\n",
       "</div>"
      ],
      "text/plain": [
       "         user                                               item\n",
       "0      U63482  ['N62671', 'N28681', 'N33080', 'N43005', 'N687...\n",
       "1      U88718  ['N62671', 'N28681', 'N7170', 'N6763', 'N17488...\n",
       "2      U44701  ['N62671', 'N28681', 'N33080', 'N18043', 'N176...\n",
       "3      U59594  ['N28681', 'N62671', 'N46619', 'N29769', 'N481...\n",
       "4      U84756  ['N28681', 'N62671', 'N60472', 'N468', 'N59140...\n",
       "...       ...                                                ...\n",
       "91930  U59528  ['N28681', 'N62671', 'N33080', 'N40191', 'N482...\n",
       "91931  U71961  ['N28681', 'N62671', 'N33080', 'N40191', 'N788...\n",
       "91932  U35924  ['N28681', 'N62671', 'N33080', 'N40191', 'N352...\n",
       "91933  U16579  ['N28681', 'N62671', 'N33080', 'N40191', 'N696...\n",
       "91934  U46290  ['N28681', 'N62671', 'N33080', 'N40191', 'N492...\n",
       "\n",
       "[91935 rows x 2 columns]"
      ]
     },
     "execution_count": 4,
     "metadata": {},
     "output_type": "execute_result"
    }
   ],
   "source": [
    "user_item = pd.read_csv('./data/user_item_nearst.csv')\n",
    "user_item['item'] = user_item['item'].apply(lambda x : eval(x))\n",
    "user_item"
   ]
  },
  {
   "cell_type": "code",
   "execution_count": 50,
   "metadata": {},
   "outputs": [
    {
     "name": "stderr",
     "output_type": "stream",
     "text": [
      "91935it [00:16, 5743.13it/s]\n"
     ]
    }
   ],
   "source": [
    "item_dict = dict()\n",
    "for index,row in tqdm(user_item.iterrows()):\n",
    "   item_dict[row['user']] = row['item']"
   ]
  },
  {
   "cell_type": "code",
   "execution_count": 40,
   "metadata": {},
   "outputs": [
    {
     "data": {
      "text/html": [
       "<div>\n",
       "<style scoped>\n",
       "    .dataframe tbody tr th:only-of-type {\n",
       "        vertical-align: middle;\n",
       "    }\n",
       "\n",
       "    .dataframe tbody tr th {\n",
       "        vertical-align: top;\n",
       "    }\n",
       "\n",
       "    .dataframe thead th {\n",
       "        text-align: right;\n",
       "    }\n",
       "</style>\n",
       "<table border=\"1\" class=\"dataframe\">\n",
       "  <thead>\n",
       "    <tr style=\"text-align: right;\">\n",
       "      <th></th>\n",
       "      <th>user</th>\n",
       "      <th>item</th>\n",
       "    </tr>\n",
       "  </thead>\n",
       "  <tbody>\n",
       "    <tr>\n",
       "      <th>57043</th>\n",
       "      <td>U54035</td>\n",
       "      <td>['N28681', 'N62671', 'N33080', 'N18088', 'N524...</td>\n",
       "    </tr>\n",
       "  </tbody>\n",
       "</table>\n",
       "</div>"
      ],
      "text/plain": [
       "         user                                               item\n",
       "57043  U54035  ['N28681', 'N62671', 'N33080', 'N18088', 'N524..."
      ]
     },
     "execution_count": 40,
     "metadata": {},
     "output_type": "execute_result"
    }
   ],
   "source": [
    "user_item[user_item['user'] == 'U54035']"
   ]
  },
  {
   "cell_type": "code",
   "execution_count": 42,
   "metadata": {},
   "outputs": [
    {
     "name": "stdout",
     "output_type": "stream",
     "text": [
      "['N11717', 'N16444', 'N52477', 'N44366', 'N19622', 'N18088', 'N14063', 'N44135']\n",
      "['N18088', 'N52477']\n",
      "['N28681', 'N62671', 'N33080', 'N40191', 'N55986', 'N16789', 'N30546', 'N61604', 'N38312', 'N32390', 'N57396', 'N43862', 'N27232', 'N55299', 'N58920', 'N47087', 'N49557', 'N58135', 'N18002', 'N45869', 'N14138', 'N24786', 'N24382', 'N15305', 'N52234', 'N59384', 'N14539', 'N33951']\n"
     ]
    }
   ],
   "source": [
    "same = []\n",
    "diff = []\n",
    "curr = behavior.iloc[15535]['clickHistory'].split(' ')\n",
    "comp = eval(user_item[user_item['user'] == 'U54035']['item'].values[0])\n",
    "for x in comp:\n",
    "    if x not in curr:\n",
    "        diff.append(x)\n",
    "    else:\n",
    "        same.append(x)\n",
    "print(curr)\n",
    "print(same)\n",
    "print(diff)\n"
   ]
  },
  {
   "cell_type": "code",
   "execution_count": 43,
   "metadata": {},
   "outputs": [
    {
     "data": {
      "text/html": [
       "<div>\n",
       "<style scoped>\n",
       "    .dataframe tbody tr th:only-of-type {\n",
       "        vertical-align: middle;\n",
       "    }\n",
       "\n",
       "    .dataframe tbody tr th {\n",
       "        vertical-align: top;\n",
       "    }\n",
       "\n",
       "    .dataframe thead th {\n",
       "        text-align: right;\n",
       "    }\n",
       "</style>\n",
       "<table border=\"1\" class=\"dataframe\">\n",
       "  <thead>\n",
       "    <tr style=\"text-align: right;\">\n",
       "      <th></th>\n",
       "      <th>index</th>\n",
       "      <th>id</th>\n",
       "      <th>timeStamp</th>\n",
       "      <th>clickHistory</th>\n",
       "      <th>impressionLog</th>\n",
       "    </tr>\n",
       "  </thead>\n",
       "  <tbody>\n",
       "    <tr>\n",
       "      <th>0</th>\n",
       "      <td>1</td>\n",
       "      <td>U7615</td>\n",
       "      <td>11/9/2019 9:28:47 PM</td>\n",
       "      <td>N61901 N28165 N5994 N32458 N30740 N63732 N2290...</td>\n",
       "      <td>N57352-0 N37113-0 N15218-0 N63863-0 N54656-0 N...</td>\n",
       "    </tr>\n",
       "    <tr>\n",
       "      <th>1</th>\n",
       "      <td>2</td>\n",
       "      <td>U19710</td>\n",
       "      <td>11/9/2019 12:02:50 AM</td>\n",
       "      <td>N24199 N45678 N38206 N32830 N34257 N65070 N320...</td>\n",
       "      <td>N606-0 N35775-0 N42854-0 N592-0 N19156-0 N3724...</td>\n",
       "    </tr>\n",
       "    <tr>\n",
       "      <th>2</th>\n",
       "      <td>3</td>\n",
       "      <td>U28841</td>\n",
       "      <td>11/12/2019 9:58:09 AM</td>\n",
       "      <td>N61194 N30651 N45344 N14496 N12187 N19840 N210...</td>\n",
       "      <td>N20219-0 N4676-0 N13152-0 N39946-1 N28851-0 N2...</td>\n",
       "    </tr>\n",
       "    <tr>\n",
       "      <th>3</th>\n",
       "      <td>4</td>\n",
       "      <td>U55263</td>\n",
       "      <td>11/11/2019 10:07:57 AM</td>\n",
       "      <td>N19662 N26316 N18152 N36673 N18376 N35942 N337...</td>\n",
       "      <td>N21106-0 N30919-0 N32992-0 N12404-0 N64068-0 N...</td>\n",
       "    </tr>\n",
       "    <tr>\n",
       "      <th>4</th>\n",
       "      <td>5</td>\n",
       "      <td>U37902</td>\n",
       "      <td>11/14/2019 4:10:01 PM</td>\n",
       "      <td>N27720 N1865</td>\n",
       "      <td>N19999-1 N31474-0</td>\n",
       "    </tr>\n",
       "    <tr>\n",
       "      <th>...</th>\n",
       "      <td>...</td>\n",
       "      <td>...</td>\n",
       "      <td>...</td>\n",
       "      <td>...</td>\n",
       "      <td>...</td>\n",
       "    </tr>\n",
       "    <tr>\n",
       "      <th>73147</th>\n",
       "      <td>73148</td>\n",
       "      <td>U37781</td>\n",
       "      <td>11/15/2019 12:15:58 PM</td>\n",
       "      <td>N21819 N16191 N26963 N4790 N50877 N60565 N3868...</td>\n",
       "      <td>N40220-0 N22727-0 N2702-0 N14382-0 N57806-0 N1...</td>\n",
       "    </tr>\n",
       "    <tr>\n",
       "      <th>73148</th>\n",
       "      <td>73149</td>\n",
       "      <td>U48156</td>\n",
       "      <td>11/15/2019 2:29:00 PM</td>\n",
       "      <td>N569 N46895 N65145 N45039 N49230</td>\n",
       "      <td>N22727-0 N31872-0 N5195-1 N11816-0 N20497-0 N1...</td>\n",
       "    </tr>\n",
       "    <tr>\n",
       "      <th>73149</th>\n",
       "      <td>73150</td>\n",
       "      <td>U16538</td>\n",
       "      <td>11/15/2019 6:16:04 AM</td>\n",
       "      <td>NaN</td>\n",
       "      <td>N15743-0 N44819-0 N16692-0 N49143-0 N16858-0 N...</td>\n",
       "    </tr>\n",
       "    <tr>\n",
       "      <th>73150</th>\n",
       "      <td>73151</td>\n",
       "      <td>U1293</td>\n",
       "      <td>11/15/2019 10:03:36 AM</td>\n",
       "      <td>N39742 N56843 N43184 N121 N10579 N47424 N65070...</td>\n",
       "      <td>N50337-0 N17772-0 N57046-0 N12036-0 N41893-0 N...</td>\n",
       "    </tr>\n",
       "    <tr>\n",
       "      <th>73151</th>\n",
       "      <td>73152</td>\n",
       "      <td>U27142</td>\n",
       "      <td>11/15/2019 12:23:21 PM</td>\n",
       "      <td>N52945 N25654 N38679 N20581 N19145 N50199 N7603</td>\n",
       "      <td>N22727-0 N57046-0 N56149-0 N31872-0 N63997-0 N...</td>\n",
       "    </tr>\n",
       "  </tbody>\n",
       "</table>\n",
       "<p>230117 rows × 5 columns</p>\n",
       "</div>"
      ],
      "text/plain": [
       "       index      id               timeStamp  \\\n",
       "0          1   U7615    11/9/2019 9:28:47 PM   \n",
       "1          2  U19710   11/9/2019 12:02:50 AM   \n",
       "2          3  U28841   11/12/2019 9:58:09 AM   \n",
       "3          4  U55263  11/11/2019 10:07:57 AM   \n",
       "4          5  U37902   11/14/2019 4:10:01 PM   \n",
       "...      ...     ...                     ...   \n",
       "73147  73148  U37781  11/15/2019 12:15:58 PM   \n",
       "73148  73149  U48156   11/15/2019 2:29:00 PM   \n",
       "73149  73150  U16538   11/15/2019 6:16:04 AM   \n",
       "73150  73151   U1293  11/15/2019 10:03:36 AM   \n",
       "73151  73152  U27142  11/15/2019 12:23:21 PM   \n",
       "\n",
       "                                            clickHistory  \\\n",
       "0      N61901 N28165 N5994 N32458 N30740 N63732 N2290...   \n",
       "1      N24199 N45678 N38206 N32830 N34257 N65070 N320...   \n",
       "2      N61194 N30651 N45344 N14496 N12187 N19840 N210...   \n",
       "3      N19662 N26316 N18152 N36673 N18376 N35942 N337...   \n",
       "4                                           N27720 N1865   \n",
       "...                                                  ...   \n",
       "73147  N21819 N16191 N26963 N4790 N50877 N60565 N3868...   \n",
       "73148                   N569 N46895 N65145 N45039 N49230   \n",
       "73149                                                NaN   \n",
       "73150  N39742 N56843 N43184 N121 N10579 N47424 N65070...   \n",
       "73151    N52945 N25654 N38679 N20581 N19145 N50199 N7603   \n",
       "\n",
       "                                           impressionLog  \n",
       "0      N57352-0 N37113-0 N15218-0 N63863-0 N54656-0 N...  \n",
       "1      N606-0 N35775-0 N42854-0 N592-0 N19156-0 N3724...  \n",
       "2      N20219-0 N4676-0 N13152-0 N39946-1 N28851-0 N2...  \n",
       "3      N21106-0 N30919-0 N32992-0 N12404-0 N64068-0 N...  \n",
       "4                                      N19999-1 N31474-0  \n",
       "...                                                  ...  \n",
       "73147  N40220-0 N22727-0 N2702-0 N14382-0 N57806-0 N1...  \n",
       "73148  N22727-0 N31872-0 N5195-1 N11816-0 N20497-0 N1...  \n",
       "73149  N15743-0 N44819-0 N16692-0 N49143-0 N16858-0 N...  \n",
       "73150  N50337-0 N17772-0 N57046-0 N12036-0 N41893-0 N...  \n",
       "73151  N22727-0 N57046-0 N56149-0 N31872-0 N63997-0 N...  \n",
       "\n",
       "[230117 rows x 5 columns]"
      ]
     },
     "execution_count": 43,
     "metadata": {},
     "output_type": "execute_result"
    }
   ],
   "source": [
    "behavior"
   ]
  },
  {
   "cell_type": "code",
   "execution_count": 60,
   "metadata": {},
   "outputs": [
    {
     "name": "stderr",
     "output_type": "stream",
     "text": [
      "156965it [00:25, 6182.92it/s]\n"
     ]
    }
   ],
   "source": [
    "train_behavior = pd.read_csv('./data/train/behaviors.tsv',sep ='\\t',header=None)\n",
    "train_behavior.columns = ['index','id','timeStamp','clickHistory','impressionLog']\n",
    "temp_his = []\n",
    "for index,row in tqdm(train_behavior.iterrows()):\n",
    "    if type(row['clickHistory']) == float:\n",
    "        curr = None\n",
    "    else:\n",
    "        curr = row['clickHistory'].split(' ')\n",
    "        length = len(curr)\n",
    "        if(length < 15):\n",
    "            nearst_item = item_dict[row['id']]\n",
    "            curr.extend(nearst_item[:15-length])\n",
    "    temp_his.append(curr)\n",
    "train_behavior['clickHistory'] = temp_his\n",
    "train_behavior.to_csv('./data/train/trainBehavior_social.csv',index=False)"
   ]
  },
  {
   "cell_type": "code",
   "execution_count": 61,
   "metadata": {},
   "outputs": [
    {
     "name": "stderr",
     "output_type": "stream",
     "text": [
      "73152it [00:11, 6280.09it/s]\n"
     ]
    }
   ],
   "source": [
    "test_behavior = pd.read_csv('./data/test/behaviors.tsv',sep ='\\t',header=None)\n",
    "test_behavior.columns = ['index','id','timeStamp','clickHistory','impressionLog']\n",
    "temp_his = []\n",
    "for index,row in tqdm(test_behavior.iterrows()):\n",
    "    if type(row['clickHistory']) == float:\n",
    "        curr = None\n",
    "    else:\n",
    "        curr = row['clickHistory'].split(' ')\n",
    "        length = len(curr)\n",
    "        if(length < 15):\n",
    "            nearst_item = item_dict[row['id']]\n",
    "            curr.extend(nearst_item[:15-length])\n",
    "    temp_his.append(curr)\n",
    "test_behavior['clickHistory'] = temp_his\n",
    "test_behavior.to_csv('./data/test/testBehavior_social.csv',index=False)"
   ]
  },
  {
   "cell_type": "code",
   "execution_count": null,
   "metadata": {},
   "outputs": [],
   "source": []
  }
 ],
 "metadata": {
  "kernelspec": {
   "display_name": "Python 3",
   "language": "python",
   "name": "python3"
  },
  "language_info": {
   "codemirror_mode": {
    "name": "ipython",
    "version": 3
   },
   "file_extension": ".py",
   "mimetype": "text/x-python",
   "name": "python",
   "nbconvert_exporter": "python",
   "pygments_lexer": "ipython3",
   "version": "3.6.11"
  }
 },
 "nbformat": 4,
 "nbformat_minor": 4
}
