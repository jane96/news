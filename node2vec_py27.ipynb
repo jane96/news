{
 "cells": [
  {
   "cell_type": "code",
   "execution_count": 1,
   "metadata": {},
   "outputs": [
    {
     "name": "stdout",
     "output_type": "stream",
     "text": [
      "^C\r\n",
      "Traceback (most recent call last):\r\n",
      "  File \"./node2vec-master/src/main.py\", line 104, in <module>\r\n",
      "    main(args)\r\n",
      "  File \"./node2vec-master/src/main.py\", line 98, in main\r\n",
      "    G.preprocess_transition_probs()\r\n",
      "  File \"/home/huangzhen/project/news/node2vec-master/src/node2vec.py\", line 98, in preprocess_transition_probs\r\n",
      "    alias_edges[edge] = self.get_alias_edge(edge[0], edge[1])\r\n",
      "  File \"/home/huangzhen/project/news/node2vec-master/src/node2vec.py\", line 64, in get_alias_edge\r\n",
      "    for dst_nbr in sorted(G.neighbors(dst)):\r\n",
      "KeyboardInterrupt\r\n"
     ]
    }
   ],
   "source": [
    "!python ./node2vec-master/src/main.py --input ./data/id_news.csv --output emb/id_news.emd  --workers 40 --num-walks 5"
   ]
  },
  {
   "cell_type": "code",
   "execution_count": null,
   "metadata": {},
   "outputs": [],
   "source": []
  }
 ],
 "metadata": {
  "kernelspec": {
   "display_name": "Python 3",
   "language": "python",
   "name": "python3"
  },
  "language_info": {
   "codemirror_mode": {
    "name": "ipython",
    "version": 3
   },
   "file_extension": ".py",
   "mimetype": "text/x-python",
   "name": "python",
   "nbconvert_exporter": "python",
   "pygments_lexer": "ipython3",
   "version": "3.6.10"
  }
 },
 "nbformat": 4,
 "nbformat_minor": 2
}
